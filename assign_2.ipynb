{
 "cells": [
  {
   "cell_type": "markdown",
   "metadata": {},
   "source": [
    "# Assignment 2\n",
    "### Data Management, Data Management & Analysis, Fall/Winter 2019\n",
    "Notes: Use only Python. Feel free to search online. **Do not completely copy your friend's code (double-check the code by yourself).** Do not use other packages than those specified below.\n",
    "- (1) Set the file name as \n",
    "    - 'assign_2_yourLoginID_yourLastName.ipynb' (yourLoginID starts with 'u'). **Please do not forget setting the file name.**\n",
    "- (2) Upload it to CLE.\n",
    "\n",
    "### Deadline: 23:59 December 8th, 2019"
   ]
  },
  {
   "cell_type": "markdown",
   "metadata": {},
   "source": [
    "### Your task\n",
    "- We have examined the relationship between Election-Day temperature and electoral outcomes in the class. Let's start a new project in which your research question is the following: Is there any relationship between the Senate Republican vote share and the performance of the manufacturing sector in the following year? (Does the question make sense to you?)\n",
    "- Since we already have the cleaned election data, what you need to do is (1) clean manufacturing data, (2) merge with the election data, and (3) check the relationship.\n",
    "- The `annu_manu.xlsx` file contains manufacturing data for the years 2009, 2011, 2013, and 2015, i.e., a year after each election.\n",
    "    - The original data (Annual Survey of Manufactures) were downloaded from the [US Census Bureau](https://www.census.gov/programs-surveys/asm/data/tables.html)."
   ]
  },
  {
   "cell_type": "code",
   "execution_count": 73,
   "metadata": {},
   "outputs": [],
   "source": [
    "import os\n",
    "import pandas as pd\n",
    "import numpy as np\n",
    "import seaborn as sns\n",
    "import matplotlib.pyplot as plt\n",
    "from statsmodels.iolib.summary2 import summary_col\n",
    "import statsmodels.formula.api as smf\n",
    "plt.style.use('seaborn-white') "
   ]
  },
  {
   "cell_type": "markdown",
   "metadata": {},
   "source": [
    "### A. Clean manufacturing data (total 14 points)\n",
    "#### 1. Import manufacturing data (1 point)\n",
    "- Make a dictionary and import data using a loop.\n",
    "    - You should be able to access to, e.g., the 2009 manufacturing data using `manu['manu_2009']`.\n",
    "    - Use `object` for `dtype`."
   ]
  },
  {
   "cell_type": "code",
   "execution_count": null,
   "metadata": {},
   "outputs": [],
   "source": []
  },
  {
   "cell_type": "markdown",
   "metadata": {},
   "source": [
    "- Print `manu['manu_2009'].columns`."
   ]
  },
  {
   "cell_type": "code",
   "execution_count": null,
   "metadata": {},
   "outputs": [],
   "source": []
  },
  {
   "cell_type": "markdown",
   "metadata": {},
   "source": [
    "#### 2. Rename column names (3 points)\n",
    "- Rename column names in the following way using a loop.\n",
    "    - 1. Replace `.` to `_`.\n",
    "    - 2. Convert uppercase to lowercase\n",
    "    - 3. Rename `geo_display-label` to `geo_label`, `naics_display-label` to `naics_label`, and `year_id` to `year`."
   ]
  },
  {
   "cell_type": "code",
   "execution_count": null,
   "metadata": {},
   "outputs": [],
   "source": []
  },
  {
   "cell_type": "markdown",
   "metadata": {},
   "source": [
    "- Print `manu['manu_2009'].columns`."
   ]
  },
  {
   "cell_type": "code",
   "execution_count": null,
   "metadata": {},
   "outputs": [],
   "source": []
  },
  {
   "cell_type": "markdown",
   "metadata": {},
   "source": [
    "#### 3. Replace strange values (6 points)\n",
    "- The data contain strange values such as `'D'`, `'f'`, etc.\n",
    "    - Read `ASM_YYYY_31AS101.txt` files to understand the meanings of those strange values.\n",
    "- Replace the strange values in the following way using loops:\n",
    "    - 1. `'A'`, `'D'`, `'S'`, `'X'` -> `NaN` (`np.nan`)\n",
    "    - 2. Values containing `'(s)'` or `'(r)'` -> `NaN` (`np.nan`)\n",
    "    - 3. `'a'`, `'b'`, `'c'`, `'e'`, `'f'`, `'g'`, `'h'`, `'i'`, `'k'` -> Use the average number (e.g., `749.5` for `'f'`)\n",
    "- Feel free to use Pandas' `eq()` for 1 and 3.\n",
    "- Feel free to use `astype(str).str.contains()` for 2."
   ]
  },
  {
   "cell_type": "code",
   "execution_count": null,
   "metadata": {},
   "outputs": [],
   "source": [
    "#1"
   ]
  },
  {
   "cell_type": "code",
   "execution_count": null,
   "metadata": {},
   "outputs": [],
   "source": [
    "#2"
   ]
  },
  {
   "cell_type": "code",
   "execution_count": null,
   "metadata": {},
   "outputs": [],
   "source": [
    "#3"
   ]
  },
  {
   "cell_type": "markdown",
   "metadata": {},
   "source": [
    "#### 4. Drop irrelevant years (2 points)\n",
    "- Since some data contain more than one year, drop irrelevant years."
   ]
  },
  {
   "cell_type": "code",
   "execution_count": null,
   "metadata": {},
   "outputs": [],
   "source": []
  },
  {
   "cell_type": "markdown",
   "metadata": {},
   "source": [
    "#### 5. Drop sub-sectors (2 points)\n",
    "- The data contain sub-sectors within the manufacturing sector. Keep only observations for `'naics_label' == 'Manufacturing'` using a loop."
   ]
  },
  {
   "cell_type": "code",
   "execution_count": null,
   "metadata": {},
   "outputs": [],
   "source": []
  },
  {
   "cell_type": "markdown",
   "metadata": {},
   "source": [
    "### B. Merge election data (total 10 points)\n",
    "#### 1. Import election data (1 point)\n",
    "- Make a dictionary and import data using a loop.\n",
    "    - You should be able to access to, e.g., the 2008 election data using `elec['elec_2008']`.\n",
    "    - Use `object` for `dtype`."
   ]
  },
  {
   "cell_type": "code",
   "execution_count": null,
   "metadata": {},
   "outputs": [],
   "source": []
  },
  {
   "cell_type": "markdown",
   "metadata": {},
   "source": [
    "#### 2. Append all years (2 points)\n",
    "- Append all years for each datasets and make `elec_all` and `manu_all`, respectively.\n",
    "    - Use `ignore_index=True` for both datasets.\n",
    "    - For the manufacturing data, use the `join='inner'` option too."
   ]
  },
  {
   "cell_type": "code",
   "execution_count": null,
   "metadata": {},
   "outputs": [],
   "source": []
  },
  {
   "cell_type": "markdown",
   "metadata": {},
   "source": [
    "#### 3. Merge two datasets (3 points)\n",
    "- Merge two datasets using state and year columns.\n",
    "- First, modify the year column.\n",
    "    - Make a new column `'year'` in `elec_all` and put a value of 1 + `'elec_year'` (e.g., the value should be `2009` for `'elec_year' == 2008`)."
   ]
  },
  {
   "cell_type": "code",
   "execution_count": null,
   "metadata": {},
   "outputs": [],
   "source": []
  },
  {
   "cell_type": "markdown",
   "metadata": {},
   "source": [
    "- Run the following commands to check that each dataset contains relevant years."
   ]
  },
  {
   "cell_type": "code",
   "execution_count": null,
   "metadata": {},
   "outputs": [],
   "source": [
    "print(elec_all['year'].unique()); print(manu_all['year'].unique())"
   ]
  },
  {
   "cell_type": "markdown",
   "metadata": {},
   "source": [
    "- Second, modify the state name column.\n",
    "    - Remove strange white right spaces in `'state_long'` in `elec_all`."
   ]
  },
  {
   "cell_type": "code",
   "execution_count": null,
   "metadata": {},
   "outputs": [],
   "source": []
  },
  {
   "cell_type": "markdown",
   "metadata": {},
   "source": [
    "- Run the following commands to check that each dataset contains relevant state names."
   ]
  },
  {
   "cell_type": "code",
   "execution_count": null,
   "metadata": {},
   "outputs": [],
   "source": [
    "print(elec_all['state_long'].unique()); print(manu_all['geo_label'].unique())"
   ]
  },
  {
   "cell_type": "markdown",
   "metadata": {},
   "source": [
    "- Finally, merge two datasets and make `data_use`.\n",
    "    - Use `'inner'` for `how`."
   ]
  },
  {
   "cell_type": "code",
   "execution_count": null,
   "metadata": {},
   "outputs": [],
   "source": []
  },
  {
   "cell_type": "markdown",
   "metadata": {},
   "source": [
    "#### 4. Make new columns (3 points)\n",
    "- Make the vote share of Republican and Democratic candicates and make `'rep_share'` and `'dem_share'`, respectively."
   ]
  },
  {
   "cell_type": "code",
   "execution_count": null,
   "metadata": {},
   "outputs": [],
   "source": []
  },
  {
   "cell_type": "markdown",
   "metadata": {},
   "source": [
    "- Take the natural logs of `'emp'`, `'payanpw'`, and `'valadd'` and make `'ln_emp'`, `'ln_payanpw'`, and `'ln_valadd'`, respectively.\n",
    "    - If you get an error, try `astype(float)`."
   ]
  },
  {
   "cell_type": "code",
   "execution_count": null,
   "metadata": {},
   "outputs": [],
   "source": []
  },
  {
   "cell_type": "markdown",
   "metadata": {},
   "source": [
    "- Run the following commands."
   ]
  },
  {
   "cell_type": "code",
   "execution_count": null,
   "metadata": {},
   "outputs": [],
   "source": [
    "print(data_use.shape); print(data_use.columns); print(data_use.head(5))"
   ]
  },
  {
   "cell_type": "markdown",
   "metadata": {},
   "source": [
    "#### 5. Save the data (1 point)\n",
    "- Save the data in csv format.\n",
    "    - Use `False` for `index`."
   ]
  },
  {
   "cell_type": "code",
   "execution_count": null,
   "metadata": {},
   "outputs": [],
   "source": []
  },
  {
   "cell_type": "markdown",
   "metadata": {},
   "source": [
    "### C. Analysis (total 6 points)\n",
    "#### 1. Import data (1 point)\n",
    "- Import the data as `data`.\n",
    "    - Do not use the `dtype` option."
   ]
  },
  {
   "cell_type": "code",
   "execution_count": null,
   "metadata": {},
   "outputs": [],
   "source": []
  },
  {
   "cell_type": "markdown",
   "metadata": {},
   "source": [
    "#### 2. Summary table (1 point)\n",
    "- Make a summary table using `'rep_share'`, `'dem_share'`, `'ln_emp'`, `'ln_payanpw'`, and `'ln_valadd'` and print it here.\n",
    "    - For statistics, use `mean`, `std`, `min`, `max`, and `count`.\n",
    "    - Do not save the table."
   ]
  },
  {
   "cell_type": "code",
   "execution_count": null,
   "metadata": {},
   "outputs": [],
   "source": []
  },
  {
   "cell_type": "markdown",
   "metadata": {},
   "source": [
    "#### 3. Scatter plot (2 points)\n",
    "- Make a scatter plot in which x-axis is `'rep_share'` and y-axis is `'ln_emp'`.\n",
    "    - Add labels. Use `\"Republican vote share (t)\"` for x-axis and `\"Log number of paid employees (t+1)\"` for y-axis.\n",
    "    - If you like, you can use `seaborn` instead of `matplotlib`.\n",
    "    - Do not save the figure."
   ]
  },
  {
   "cell_type": "code",
   "execution_count": null,
   "metadata": {},
   "outputs": [],
   "source": []
  },
  {
   "cell_type": "markdown",
   "metadata": {},
   "source": [
    "#### 4. Regressions (2 points)\n",
    "- Run the following OLS regressions and print a table of the results.\n",
    "    - Do not save the table."
   ]
  },
  {
   "cell_type": "code",
   "execution_count": null,
   "metadata": {},
   "outputs": [],
   "source": [
    "reg1 = smf.ols('ln_emp ~ rep_share', data=data).fit() # number of paid employees\n",
    "reg2 = smf.ols('ln_payanpw ~ rep_share', data=data).fit() # production workers wages\n",
    "reg3 = smf.ols('ln_valadd ~ rep_share', data=data).fit() # value added"
   ]
  },
  {
   "cell_type": "markdown",
   "metadata": {},
   "source": [
    "- Is there any correlation between the Republican vote share and the performance of the manufacturing sector in the following year? Answer Yes or No."
   ]
  },
  {
   "cell_type": "code",
   "execution_count": null,
   "metadata": {},
   "outputs": [],
   "source": [
    "# Your answer: "
   ]
  }
 ],
 "metadata": {
  "kernelspec": {
   "display_name": "Python 3",
   "language": "python",
   "name": "python3"
  },
  "language_info": {
   "codemirror_mode": {
    "name": "ipython",
    "version": 3
   },
   "file_extension": ".py",
   "mimetype": "text/x-python",
   "name": "python",
   "nbconvert_exporter": "python",
   "pygments_lexer": "ipython3",
   "version": "3.7.3"
  }
 },
 "nbformat": 4,
 "nbformat_minor": 2
}
